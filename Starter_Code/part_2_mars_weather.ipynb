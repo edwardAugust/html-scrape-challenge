{
 "cells": [
  {
   "cell_type": "markdown",
   "metadata": {},
   "source": [
    "# Module 12 Challenge\n",
    "## Deliverable 2: Scrape and Analyze Mars Weather Data"
   ]
  },
  {
   "cell_type": "code",
   "execution_count": 7,
   "metadata": {},
   "outputs": [],
   "source": [
    "# Import relevant libraries\n",
    "from splinter import Browser\n",
    "from bs4 import BeautifulSoup as soup\n",
    "import matplotlib.pyplot as plt\n",
    "import pandas as pd"
   ]
  },
  {
   "cell_type": "code",
   "execution_count": 8,
   "metadata": {},
   "outputs": [],
   "source": [
    "#import neccessary functions\n",
    "import re\n",
    "def cleanhtml(raw_html):\n",
    "  format = re.compile('<.*?>') \n",
    "  cleantext = re.sub(format, '', raw_html)\n",
    "  return cleantext"
   ]
  },
  {
   "cell_type": "code",
   "execution_count": 11,
   "metadata": {},
   "outputs": [],
   "source": [
    "browser = Browser('chrome')"
   ]
  },
  {
   "cell_type": "markdown",
   "metadata": {},
   "source": [
    "### Step 1: Visit the Website\n",
    "\n",
    "Use automated browsing to visit the [Mars Temperature Data Site](https://static.bc-edx.com/data/web/mars_facts/temperature.html). Inspect the page to identify which elements to scrape.\n",
    "\n",
    "   > **Hint** To identify which elements to scrape, you might want to inspect the page by using Chrome DevTools to discover whether the table contains usable classes.\n"
   ]
  },
  {
   "cell_type": "code",
   "execution_count": 12,
   "metadata": {},
   "outputs": [],
   "source": [
    "# Visit the website\n",
    "url = 'https://static.bc-edx.com/data/web/mars_facts/temperature.html'\n",
    "browser.visit(url)"
   ]
  },
  {
   "cell_type": "markdown",
   "metadata": {},
   "source": [
    "### Step 2: Scrape the Table\n",
    "\n",
    "Create a Beautiful Soup object and use it to scrape the data in the HTML table.\n",
    "\n",
    "Note that this can also be achieved by using the Pandas `read_html` function. However, use Beautiful Soup here to continue sharpening your web scraping skills."
   ]
  },
  {
   "cell_type": "code",
   "execution_count": 13,
   "metadata": {},
   "outputs": [],
   "source": [
    "# Create a Beautiful Soup Object\n",
    "html = browser.html\n",
    "htmlSoup = soup(\n",
    "    html,\n",
    "    'html.parser'\n",
    ")"
   ]
  },
  {
   "cell_type": "code",
   "execution_count": 14,
   "metadata": {},
   "outputs": [],
   "source": [
    " # Time to peruse the html for the table\n",
    "table = htmlSoup.find(\n",
    "    'table',\n",
    "    class_ = 'table'\n",
    ")\n",
    "# Did we find it?\n",
    "# print(table)"
   ]
  },
  {
   "cell_type": "code",
   "execution_count": 15,
   "metadata": {},
   "outputs": [],
   "source": [
    "rows = table.find(\n",
    "    'tr',\n",
    "    class_ = 'data-row'\n",
    "    )\n"
   ]
  },
  {
   "cell_type": "code",
   "execution_count": 21,
   "metadata": {},
   "outputs": [],
   "source": [
    "    \n",
    "td = rows.find_all(\n",
    "        'td',\n",
    "        )\n"
   ]
  },
  {
   "cell_type": "code",
   "execution_count": 17,
   "metadata": {},
   "outputs": [
    {
     "data": {
      "text/plain": [
       "[<td>2</td>,\n",
       " <td>2012-08-16</td>,\n",
       " <td>10</td>,\n",
       " <td>155</td>,\n",
       " <td>6</td>,\n",
       " <td>-75.0</td>,\n",
       " <td>739.0</td>]"
      ]
     },
     "execution_count": 17,
     "metadata": {},
     "output_type": "execute_result"
    }
   ],
   "source": [
    "td"
   ]
  },
  {
   "cell_type": "code",
   "execution_count": 26,
   "metadata": {},
   "outputs": [
    {
     "name": "stdout",
     "output_type": "stream",
     "text": [
      "[<td>2</td>, <td>2012-08-16</td>, <td>10</td>, <td>155</td>, <td>6</td>, <td>-75.0</td>, <td>739.0</td>]\n"
     ]
    }
   ],
   "source": [
    "tr = table.find(\n",
    "    'tr',\n",
    "    class_ = 'data-row'\n",
    "    )\n",
    "tdLs = []\n",
    "for r in tr:\n",
    "    #\n",
    "    td = rows.find_all(\n",
    "    'td',\n",
    "    )\n",
    "    tdLs.append(td)\n",
    "print(td)"
   ]
  },
  {
   "cell_type": "code",
   "execution_count": 5,
   "metadata": {},
   "outputs": [
    {
     "ename": "NameError",
     "evalue": "name 'table' is not defined",
     "output_type": "error",
     "traceback": [
      "\u001b[1;31m---------------------------------------------------------------------------\u001b[0m",
      "\u001b[1;31mNameError\u001b[0m                                 Traceback (most recent call last)",
      "\u001b[1;32m~\\AppData\\Local\\Temp\\ipykernel_12772\\3987764192.py\u001b[0m in \u001b[0;36m<module>\u001b[1;34m\u001b[0m\n\u001b[0;32m      4\u001b[0m \u001b[1;33m\u001b[0m\u001b[0m\n\u001b[0;32m      5\u001b[0m \u001b[1;31m# the rows\u001b[0m\u001b[1;33m\u001b[0m\u001b[1;33m\u001b[0m\u001b[0m\n\u001b[1;32m----> 6\u001b[1;33m tr = table.find(\n\u001b[0m\u001b[0;32m      7\u001b[0m     \u001b[1;34m'tr'\u001b[0m\u001b[1;33m,\u001b[0m\u001b[1;33m\u001b[0m\u001b[1;33m\u001b[0m\u001b[0m\n\u001b[0;32m      8\u001b[0m     \u001b[0mclass_\u001b[0m \u001b[1;33m=\u001b[0m \u001b[1;34m'data-row'\u001b[0m\u001b[1;33m\u001b[0m\u001b[1;33m\u001b[0m\u001b[0m\n",
      "\u001b[1;31mNameError\u001b[0m: name 'table' is not defined"
     ]
    }
   ],
   "source": [
    "# Extract all rows of data\n",
    "# Storage variable\n",
    "rowLs = []\n",
    "\n",
    "# the rows\n",
    "tr = table.find(\n",
    "    'tr',\n",
    "    class_ = 'data-row'\n",
    "    )\n",
    "\n",
    "# the headers\n",
    "th = table.find_all(\n",
    "    'th'\n",
    ")\n",
    "#^From here im just gonna refernce this variable to name the keys\n",
    "\n",
    "# Loop and scrape each row\n",
    "for r in tr:\n",
    "    #\n",
    "    td = rows.find_all(\n",
    "    'td',\n",
    "    )\n",
    "    # Save elements to dictionary\n",
    "    th_td = {\n",
    "        th[0]:td[0],\n",
    "        th[1]:td[1],\n",
    "        th[2]:td[2],\n",
    "        th[3]:td[3],\n",
    "        th[4]:td[4],\n",
    "        th[5]:td[5],\n",
    "        th[6]:td[6]\n",
    "    }\n",
    "    # Append dictionary to marsTemps\n",
    "    rowLs.append(cleanhtml(str(th_td)))\n",
    "print(td)"
   ]
  },
  {
   "cell_type": "code",
   "execution_count": null,
   "metadata": {},
   "outputs": [
    {
     "name": "stdout",
     "output_type": "stream",
     "text": [
      "['{id: 2, terrestrial_date: 2012-08-16, sol: 10, ls: 155, month: 6, min_temp: -75.0, pressure: 739.0}', '{id: 2, terrestrial_date: 2012-08-16, sol: 10, ls: 155, month: 6, min_temp: -75.0, pressure: 739.0}', '{id: 2, terrestrial_date: 2012-08-16, sol: 10, ls: 155, month: 6, min_temp: -75.0, pressure: 739.0}', '{id: 2, terrestrial_date: 2012-08-16, sol: 10, ls: 155, month: 6, min_temp: -75.0, pressure: 739.0}', '{id: 2, terrestrial_date: 2012-08-16, sol: 10, ls: 155, month: 6, min_temp: -75.0, pressure: 739.0}', '{id: 2, terrestrial_date: 2012-08-16, sol: 10, ls: 155, month: 6, min_temp: -75.0, pressure: 739.0}', '{id: 2, terrestrial_date: 2012-08-16, sol: 10, ls: 155, month: 6, min_temp: -75.0, pressure: 739.0}', '{id: 2, terrestrial_date: 2012-08-16, sol: 10, ls: 155, month: 6, min_temp: -75.0, pressure: 739.0}', '{id: 2, terrestrial_date: 2012-08-16, sol: 10, ls: 155, month: 6, min_temp: -75.0, pressure: 739.0}', '{id: 2, terrestrial_date: 2012-08-16, sol: 10, ls: 155, month: 6, min_temp: -75.0, pressure: 739.0}', '{id: 2, terrestrial_date: 2012-08-16, sol: 10, ls: 155, month: 6, min_temp: -75.0, pressure: 739.0}', '{id: 2, terrestrial_date: 2012-08-16, sol: 10, ls: 155, month: 6, min_temp: -75.0, pressure: 739.0}', '{id: 2, terrestrial_date: 2012-08-16, sol: 10, ls: 155, month: 6, min_temp: -75.0, pressure: 739.0}', '{id: 2, terrestrial_date: 2012-08-16, sol: 10, ls: 155, month: 6, min_temp: -75.0, pressure: 739.0}', '{id: 2, terrestrial_date: 2012-08-16, sol: 10, ls: 155, month: 6, min_temp: -75.0, pressure: 739.0}']\n"
     ]
    }
   ],
   "source": [
    "print(rowLs)"
   ]
  },
  {
   "cell_type": "markdown",
   "metadata": {},
   "source": [
    "### Step 3: Store the Data\n",
    "\n",
    "Assemble the scraped data into a Pandas DataFrame. The columns should have the same headings as the table on the website. Here’s an explanation of the column headings:\n",
    "\n",
    "* `id`: the identification number of a single transmission from the Curiosity rover\n",
    "* `terrestrial_date`: the date on Earth\n",
    "* `sol`: the number of elapsed sols (Martian days) since Curiosity landed on Mars\n",
    "* `ls`: the solar longitude\n",
    "* `month`: the Martian month\n",
    "* `min_temp`: the minimum temperature, in Celsius, of a single Martian day (sol)\n",
    "* `pressure`: The atmospheric pressure at Curiosity's location"
   ]
  },
  {
   "cell_type": "code",
   "execution_count": null,
   "metadata": {},
   "outputs": [],
   "source": [
    "# Create an empty list\n",
    "\n",
    "# Loop through the scraped data to create a list of rows\n"
   ]
  },
  {
   "cell_type": "code",
   "execution_count": 16,
   "metadata": {},
   "outputs": [
    {
     "data": {
      "text/plain": [
       "<bound method NDFrame.head of                                                     0\n",
       "0   {id: 2, terrestrial_date: 2012-08-16, sol: 10,...\n",
       "1   {id: 2, terrestrial_date: 2012-08-16, sol: 10,...\n",
       "2   {id: 2, terrestrial_date: 2012-08-16, sol: 10,...\n",
       "3   {id: 2, terrestrial_date: 2012-08-16, sol: 10,...\n",
       "4   {id: 2, terrestrial_date: 2012-08-16, sol: 10,...\n",
       "5   {id: 2, terrestrial_date: 2012-08-16, sol: 10,...\n",
       "6   {id: 2, terrestrial_date: 2012-08-16, sol: 10,...\n",
       "7   {id: 2, terrestrial_date: 2012-08-16, sol: 10,...\n",
       "8   {id: 2, terrestrial_date: 2012-08-16, sol: 10,...\n",
       "9   {id: 2, terrestrial_date: 2012-08-16, sol: 10,...\n",
       "10  {id: 2, terrestrial_date: 2012-08-16, sol: 10,...\n",
       "11  {id: 2, terrestrial_date: 2012-08-16, sol: 10,...\n",
       "12  {id: 2, terrestrial_date: 2012-08-16, sol: 10,...\n",
       "13  {id: 2, terrestrial_date: 2012-08-16, sol: 10,...\n",
       "14  {id: 2, terrestrial_date: 2012-08-16, sol: 10,...>"
      ]
     },
     "execution_count": 16,
     "metadata": {},
     "output_type": "execute_result"
    }
   ],
   "source": [
    "# Create a Pandas DataFrame by using the list of rows and a list of the column names\n",
    "import pandas as pd\n",
    "\n",
    "df = pd.DataFrame(rowLs)\n",
    "df.head"
   ]
  },
  {
   "cell_type": "code",
   "execution_count": null,
   "metadata": {},
   "outputs": [],
   "source": [
    "# Confirm DataFrame was created successfully\n"
   ]
  },
  {
   "cell_type": "markdown",
   "metadata": {},
   "source": [
    "### Step 4: Prepare Data for Analysis\n",
    "\n",
    "Examine the data types that are currently associated with each column. If necessary, cast (or convert) the data to the appropriate `datetime`, `int`, or `float` data types.\n",
    "\n",
    "  > **Hint** You can use the Pandas `astype` and `to_datetime` methods to accomplish this task.\n"
   ]
  },
  {
   "cell_type": "code",
   "execution_count": null,
   "metadata": {},
   "outputs": [],
   "source": [
    "# Examine data type of each column\n"
   ]
  },
  {
   "cell_type": "code",
   "execution_count": null,
   "metadata": {},
   "outputs": [],
   "source": [
    "# Change data types for data analysis\n"
   ]
  },
  {
   "cell_type": "code",
   "execution_count": null,
   "metadata": {},
   "outputs": [],
   "source": [
    "# Confirm type changes were successful by examining data types again\n"
   ]
  },
  {
   "cell_type": "markdown",
   "metadata": {},
   "source": [
    "### Step 5: Analyze the Data\n",
    "\n",
    "Analyze your dataset by using Pandas functions to answer the following questions:\n",
    "\n",
    "1. How many months exist on Mars?\n",
    "2. How many Martian (and not Earth) days worth of data exist in the scraped dataset?\n",
    "3. What are the coldest and the warmest months on Mars (at the location of Curiosity)? To answer this question:\n",
    "    * Find the average the minimum daily temperature for all of the months.\n",
    "    * Plot the results as a bar chart.\n",
    "4. Which months have the lowest and the highest atmospheric pressure on Mars? To answer this question:\n",
    "    * Find the average the daily atmospheric pressure of all the months.\n",
    "    * Plot the results as a bar chart.\n",
    "5. About how many terrestrial (Earth) days exist in a Martian year? To answer this question:\n",
    "    * Consider how many days elapse on Earth in the time that Mars circles the Sun once.\n",
    "    * Visually estimate the result by plotting the daily minimum temperature.\n"
   ]
  },
  {
   "cell_type": "code",
   "execution_count": null,
   "metadata": {},
   "outputs": [],
   "source": [
    "# 1. How many months are there on Mars?\n"
   ]
  },
  {
   "cell_type": "code",
   "execution_count": null,
   "metadata": {},
   "outputs": [],
   "source": [
    "# 2. How many Martian days' worth of data are there?\n"
   ]
  },
  {
   "cell_type": "code",
   "execution_count": null,
   "metadata": {},
   "outputs": [],
   "source": [
    "# 3. What is the average low temperature by month?\n"
   ]
  },
  {
   "cell_type": "code",
   "execution_count": null,
   "metadata": {},
   "outputs": [],
   "source": [
    "# Plot the average temperature by month\n"
   ]
  },
  {
   "cell_type": "code",
   "execution_count": null,
   "metadata": {},
   "outputs": [],
   "source": [
    "# Identify the coldest and hottest months in Curiosity's location\n"
   ]
  },
  {
   "cell_type": "code",
   "execution_count": null,
   "metadata": {},
   "outputs": [],
   "source": [
    "# 4. Average pressure by Martian month\n"
   ]
  },
  {
   "cell_type": "code",
   "execution_count": null,
   "metadata": {},
   "outputs": [],
   "source": [
    "# Plot the average pressure by month\n"
   ]
  },
  {
   "cell_type": "code",
   "execution_count": null,
   "metadata": {},
   "outputs": [],
   "source": [
    "# 5. How many terrestrial (earth) days are there in a Martian year?\n"
   ]
  },
  {
   "cell_type": "markdown",
   "metadata": {},
   "source": [
    "On average, the third month has the coldest minimum temperature on Mars, and the eighth month is the warmest. But it is always very cold there in human terms!\n",
    "\n"
   ]
  },
  {
   "cell_type": "markdown",
   "metadata": {},
   "source": [
    "Atmospheric pressure is, on average, lowest in the sixth month and highest in the ninth."
   ]
  },
  {
   "cell_type": "markdown",
   "metadata": {},
   "source": [
    "The distance from peak to peak is roughly 1425-750, or 675 days. A year on Mars appears to be about 675 days from the plot. Internet search confirms that a Mars year is equivalent to 687 earth days."
   ]
  },
  {
   "cell_type": "markdown",
   "metadata": {},
   "source": [
    "### Step 6: Save the Data\n",
    "\n",
    "Export the DataFrame to a CSV file."
   ]
  },
  {
   "cell_type": "code",
   "execution_count": null,
   "metadata": {},
   "outputs": [],
   "source": [
    "# Write the data to a CSV\n"
   ]
  },
  {
   "cell_type": "code",
   "execution_count": null,
   "metadata": {},
   "outputs": [],
   "source": [
    "browser.quit()"
   ]
  },
  {
   "cell_type": "code",
   "execution_count": null,
   "metadata": {},
   "outputs": [],
   "source": []
  }
 ],
 "metadata": {
  "kernelspec": {
   "display_name": "Python 3 (ipykernel)",
   "language": "python",
   "name": "python3"
  },
  "language_info": {
   "codemirror_mode": {
    "name": "ipython",
    "version": 3
   },
   "file_extension": ".py",
   "mimetype": "text/x-python",
   "name": "python",
   "nbconvert_exporter": "python",
   "pygments_lexer": "ipython3",
   "version": "3.9.13"
  },
  "vscode": {
   "interpreter": {
    "hash": "31f2aee4e71d21fbe5cf8b01ff0e069b9275f58929596ceb00d14d90e3e16cd6"
   }
  }
 },
 "nbformat": 4,
 "nbformat_minor": 4
}
