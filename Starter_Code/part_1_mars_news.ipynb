{
 "cells": [
  {
   "cell_type": "markdown",
   "metadata": {},
   "source": [
    "# Module 12 Challenge\n",
    "## Deliverable 1: Scrape Titles and Preview Text from Mars News"
   ]
  },
  {
   "cell_type": "code",
   "execution_count": 1,
   "metadata": {},
   "outputs": [],
   "source": [
    "# Import Splinter and BeautifulSoup\n",
    "from splinter import Browser\n",
    "from bs4 import BeautifulSoup as soup\n",
    "import pprint"
   ]
  },
  {
   "cell_type": "code",
   "execution_count": 2,
   "metadata": {},
   "outputs": [],
   "source": [
    "import pprint"
   ]
  },
  {
   "cell_type": "code",
   "execution_count": 3,
   "metadata": {
    "scrolled": true
   },
   "outputs": [],
   "source": [
    "browser = Browser('chrome')"
   ]
  },
  {
   "cell_type": "markdown",
   "metadata": {},
   "source": [
    "### Step 1: Visit the Website\n",
    "\n",
    "1. Use automated browsing to visit the [Mars news site](https://static.bc-edx.com/data/web/mars_news/index.html). Inspect the page to identify which elements to scrape.\n",
    "\n",
    "      > **Hint** To identify which elements to scrape, you might want to inspect the page by using Chrome DevTools."
   ]
  },
  {
   "cell_type": "code",
   "execution_count": 4,
   "metadata": {},
   "outputs": [],
   "source": [
    "# Visit the Mars news site: \n",
    "url = 'https://static.bc-edx.com/data/web/mars_news/index.html'\n",
    "browser.visit(url)\n"
   ]
  },
  {
   "cell_type": "markdown",
   "metadata": {},
   "source": [
    "### Step 2: Scrape the Website\n",
    "\n",
    "Create a Beautiful Soup object and use it to extract text elements from the website."
   ]
  },
  {
   "cell_type": "code",
   "execution_count": null,
   "metadata": {},
   "outputs": [],
   "source": []
  },
  {
   "cell_type": "code",
   "execution_count": 5,
   "metadata": {},
   "outputs": [],
   "source": [
    "# Extract all the text elements\n",
    "# Find the table\n",
    "#news = html_soup.find_all('news', class_='container')\n",
    "# Create a function to perform the web scraping\n",
    "#def get_summary():\n",
    "\n",
    "    # Create a Beautiful Soup object\n",
    "html = browser.html\n",
    "html_soup = soup(html, 'html.parser')\n",
    "\n",
    "    # Specify which collection of elements to scrape\n",
    "news = html_soup.find('div', id = 'news')\n",
    "    \n",
    "    # Find all the articles in the main area of the web page\n",
    "\n",
    "    "
   ]
  },
  {
   "cell_type": "code",
   "execution_count": 6,
   "metadata": {},
   "outputs": [],
   "source": [
    "import re\n",
    "def cleanhtml(raw_html):\n",
    "  format = re.compile('<.*?>') \n",
    "  cleantext = re.sub(format, '', raw_html)\n",
    "  return cleantext"
   ]
  },
  {
   "cell_type": "code",
   "execution_count": 7,
   "metadata": {},
   "outputs": [],
   "source": [
    "# Create an empty articleLs\n",
    "articleLs = []\n",
    "# Let's loop through the news soup\n",
    "for n in news:\n",
    "\n",
    "    # Now we extract specific elements\n",
    "    title = news.find_all(\n",
    "        \"div\", class_= \"content_title\"\n",
    "    )\n",
    "    spiel = news.find_all(\n",
    "        \"div\", class_= \"article_teaser_body\"\n",
    "    )\n",
    "    # Then we save these elements in a dictionary\n",
    "    titleSpiel = {\n",
    "        'title' : title,\n",
    "        'spiel' : spiel\n",
    "    }\n",
    "    # Lastly we store the dictionary in the articleLs variable\n",
    "    articleLs.append(titleSpiel)"
   ]
  },
  {
   "cell_type": "code",
   "execution_count": 8,
   "metadata": {},
   "outputs": [],
   "source": [
    "title = news.find_all(\n",
    "        \"div\", class_= \"content_title\"\n",
    "    )"
   ]
  },
  {
   "cell_type": "code",
   "execution_count": 9,
   "metadata": {},
   "outputs": [
    {
     "data": {
      "text/plain": [
       "\"NASA's MAVEN Observes Martian Light Show Caused by Major Solar Storm\""
      ]
     },
     "execution_count": 9,
     "metadata": {},
     "output_type": "execute_result"
    }
   ],
   "source": [
    "cleanhtml(str(title[0]))"
   ]
  },
  {
   "cell_type": "markdown",
   "metadata": {},
   "source": [
    "### Step 3: Store the Results\n",
    "\n",
    "Extract the titles and preview text of the news articles that you scraped. Store the scraping results in Python data structures as follows:\n",
    "\n",
    "* Store each title-and-preview pair in a Python dictionary. And, give each dictionary two keys: `title` and `preview`. An example is the following:\n",
    "\n",
    "  ```python\n",
    "  {'title': \"NASA's MAVEN Observes Martian Light Show Caused by Major Solar Storm\", \n",
    "   'preview': \"For the first time in its eight years orbiting Mars, NASA’s MAVEN mission witnessed two different types of ultraviolet aurorae simultaneously, the result of solar storms that began on Aug. 27.\"\n",
    "  }\n",
    "  ```\n",
    "\n",
    "* Store all the dictionaries in a Python list.\n",
    "\n",
    "* Print the list in your notebook."
   ]
  },
  {
   "cell_type": "code",
   "execution_count": 10,
   "metadata": {},
   "outputs": [],
   "source": [
    "# Create an empty articleLs\n",
    "articleLs = []\n",
    "# Let's loop through the news soup\n",
    "for n in news:\n",
    "\n",
    "    # Now we extract specific elements\n",
    "    title = news.find_all(\n",
    "        \"div\", class_= \"content_title\"\n",
    "    )\n",
    "    spiel = news.find_all(\n",
    "        \"div\", class_= \"article_teaser_body\"\n",
    "    )\n",
    "    # Then we save these elements in a dictionary\n",
    "    titleSpiel = {\n",
    "        'title' : title,\n",
    "        'spiel' : spiel\n",
    "    }\n",
    "    # Lastly we store the dictionary in the articleLs variable\n",
    "    articleLs.append(titleSpiel)"
   ]
  },
  {
   "cell_type": "code",
   "execution_count": 11,
   "metadata": {},
   "outputs": [],
   "source": [
    "# The dictionary is bogged down with html tags\n",
    "# \n"
   ]
  },
  {
   "cell_type": "code",
   "execution_count": 12,
   "metadata": {},
   "outputs": [
    {
     "data": {
      "text/plain": [
       "<bound method NDFrame.head of                                                 title  \\\n",
       "0   [[NASA's MAVEN Observes Martian Light Show Cau...   \n",
       "1   [[NASA's MAVEN Observes Martian Light Show Cau...   \n",
       "2   [[NASA's MAVEN Observes Martian Light Show Cau...   \n",
       "3   [[NASA's MAVEN Observes Martian Light Show Cau...   \n",
       "4   [[NASA's MAVEN Observes Martian Light Show Cau...   \n",
       "5   [[NASA's MAVEN Observes Martian Light Show Cau...   \n",
       "6   [[NASA's MAVEN Observes Martian Light Show Cau...   \n",
       "7   [[NASA's MAVEN Observes Martian Light Show Cau...   \n",
       "8   [[NASA's MAVEN Observes Martian Light Show Cau...   \n",
       "9   [[NASA's MAVEN Observes Martian Light Show Cau...   \n",
       "10  [[NASA's MAVEN Observes Martian Light Show Cau...   \n",
       "11  [[NASA's MAVEN Observes Martian Light Show Cau...   \n",
       "12  [[NASA's MAVEN Observes Martian Light Show Cau...   \n",
       "13  [[NASA's MAVEN Observes Martian Light Show Cau...   \n",
       "14  [[NASA's MAVEN Observes Martian Light Show Cau...   \n",
       "15  [[NASA's MAVEN Observes Martian Light Show Cau...   \n",
       "16  [[NASA's MAVEN Observes Martian Light Show Cau...   \n",
       "17  [[NASA's MAVEN Observes Martian Light Show Cau...   \n",
       "18  [[NASA's MAVEN Observes Martian Light Show Cau...   \n",
       "19  [[NASA's MAVEN Observes Martian Light Show Cau...   \n",
       "20  [[NASA's MAVEN Observes Martian Light Show Cau...   \n",
       "21  [[NASA's MAVEN Observes Martian Light Show Cau...   \n",
       "22  [[NASA's MAVEN Observes Martian Light Show Cau...   \n",
       "23  [[NASA's MAVEN Observes Martian Light Show Cau...   \n",
       "24  [[NASA's MAVEN Observes Martian Light Show Cau...   \n",
       "25  [[NASA's MAVEN Observes Martian Light Show Cau...   \n",
       "26  [[NASA's MAVEN Observes Martian Light Show Cau...   \n",
       "27  [[NASA's MAVEN Observes Martian Light Show Cau...   \n",
       "28  [[NASA's MAVEN Observes Martian Light Show Cau...   \n",
       "29  [[NASA's MAVEN Observes Martian Light Show Cau...   \n",
       "30  [[NASA's MAVEN Observes Martian Light Show Cau...   \n",
       "\n",
       "                                                spiel  \n",
       "0   [[For the first time in its eight years orbiti...  \n",
       "1   [[For the first time in its eight years orbiti...  \n",
       "2   [[For the first time in its eight years orbiti...  \n",
       "3   [[For the first time in its eight years orbiti...  \n",
       "4   [[For the first time in its eight years orbiti...  \n",
       "5   [[For the first time in its eight years orbiti...  \n",
       "6   [[For the first time in its eight years orbiti...  \n",
       "7   [[For the first time in its eight years orbiti...  \n",
       "8   [[For the first time in its eight years orbiti...  \n",
       "9   [[For the first time in its eight years orbiti...  \n",
       "10  [[For the first time in its eight years orbiti...  \n",
       "11  [[For the first time in its eight years orbiti...  \n",
       "12  [[For the first time in its eight years orbiti...  \n",
       "13  [[For the first time in its eight years orbiti...  \n",
       "14  [[For the first time in its eight years orbiti...  \n",
       "15  [[For the first time in its eight years orbiti...  \n",
       "16  [[For the first time in its eight years orbiti...  \n",
       "17  [[For the first time in its eight years orbiti...  \n",
       "18  [[For the first time in its eight years orbiti...  \n",
       "19  [[For the first time in its eight years orbiti...  \n",
       "20  [[For the first time in its eight years orbiti...  \n",
       "21  [[For the first time in its eight years orbiti...  \n",
       "22  [[For the first time in its eight years orbiti...  \n",
       "23  [[For the first time in its eight years orbiti...  \n",
       "24  [[For the first time in its eight years orbiti...  \n",
       "25  [[For the first time in its eight years orbiti...  \n",
       "26  [[For the first time in its eight years orbiti...  \n",
       "27  [[For the first time in its eight years orbiti...  \n",
       "28  [[For the first time in its eight years orbiti...  \n",
       "29  [[For the first time in its eight years orbiti...  \n",
       "30  [[For the first time in its eight years orbiti...  >"
      ]
     },
     "execution_count": 12,
     "metadata": {},
     "output_type": "execute_result"
    }
   ],
   "source": [
    "# Print the list to confirm success\n",
    "import pandas as pd\n",
    "\n",
    "df = pd.DataFrame(articleLs)\n",
    "df.head"
   ]
  },
  {
   "cell_type": "code",
   "execution_count": 23,
   "metadata": {},
   "outputs": [],
   "source": [
    "browser.quit()"
   ]
  },
  {
   "cell_type": "code",
   "execution_count": null,
   "metadata": {},
   "outputs": [],
   "source": []
  }
 ],
 "metadata": {
  "kernelspec": {
   "display_name": "Python 3 (ipykernel)",
   "language": "python",
   "name": "python3"
  },
  "language_info": {
   "codemirror_mode": {
    "name": "ipython",
    "version": 3
   },
   "file_extension": ".py",
   "mimetype": "text/x-python",
   "name": "python",
   "nbconvert_exporter": "python",
   "pygments_lexer": "ipython3",
   "version": "3.9.13"
  }
 },
 "nbformat": 4,
 "nbformat_minor": 4
}
